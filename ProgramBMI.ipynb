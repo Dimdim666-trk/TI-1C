{
  "cells": [
    {
      "cell_type": "markdown",
      "metadata": {
        "id": "view-in-github",
        "colab_type": "text"
      },
      "source": [
        "<a href=\"https://colab.research.google.com/github/Dimdim666-trk/TI-1C/blob/main/ProgramBMI.ipynb\" target=\"_parent\"><img src=\"https://colab.research.google.com/assets/colab-badge.svg\" alt=\"Open In Colab\"/></a>"
      ]
    },
    {
      "cell_type": "code",
      "execution_count": 1,
      "metadata": {
        "colab": {
          "base_uri": "https://localhost:8080/"
        },
        "id": "r5kfbn8bctWJ",
        "outputId": "41e2f060-bd00-425a-d0b5-4f626a81ed4a"
      },
      "outputs": [
        {
          "output_type": "stream",
          "name": "stdout",
          "text": [
            "===== Program Body Mass Index =====\n",
            "Silahkan Masukkan Berat Badan Anda (dalam kg): 67\n",
            "Silahkan Masukkan Tinggi Badan Anda (dalam meter(m)): 1.66\n",
            "\n",
            "Body Mass Index Anda: 24.31\n",
            "Berat Badan Anda Normal\n",
            "Apakah Anda Mau Keluar? (Y/N): n\n",
            "===== Program Body Mass Index =====\n",
            "Silahkan Masukkan Berat Badan Anda (dalam kg): hkgv\n",
            "Input Tidak Valid, Silahkan Masukkan Input Berupa Angka!!!\n",
            "Silahkan Masukkan Berat Badan Anda (dalam kg): 88\n",
            "Silahkan Masukkan Tinggi Badan Anda (dalam meter(m)): 1.80\n",
            "\n",
            "Body Mass Index Anda: 27.16\n",
            "Berat Badan Anda Berlebih (Overweight)\n",
            "Apakah Anda Mau Keluar? (Y/N): y\n",
            "==== Terima kasih telah menggunakan program ini ====\n",
            "\n"
          ]
        }
      ],
      "source": [
        "import os\n",
        "\n",
        "while True:\n",
        "    os.system(\"cls\")\n",
        "    print(\"===== Program Body Mass Index =====\")\n",
        "\n",
        "    while True:\n",
        "        try:\n",
        "            berat = float(input(\"Silahkan Masukkan Berat Badan Anda (dalam kg): \"))\n",
        "            tinggi = float(input(\"Silahkan Masukkan Tinggi Badan Anda (dalam meter(m)): \"))\n",
        "            break\n",
        "        except ValueError:\n",
        "            print(\"Input Tidak Valid, Silahkan Masukkan Input Berupa Angka!!!\")\n",
        "\n",
        "    mbi = berat / tinggi ** 2\n",
        "    print(f\"\\nBody Mass Index Anda: {mbi:.2f}\")\n",
        "    if mbi < 18.5:\n",
        "        print(\"Berat Badan Anda Kurang (Underweight)\")\n",
        "    elif 18.5 <= mbi < 25:\n",
        "        print(\"Berat Badan Anda Normal\")\n",
        "    elif 25 <= mbi < 30:\n",
        "        print(\"Berat Badan Anda Berlebih (Overweight)\")\n",
        "    else:\n",
        "        print(\"Anda Obesitas\")\n",
        "\n",
        "    while True:\n",
        "        keluar = input(\"Apakah Anda Mau Keluar? (Y/N): \").strip().lower()\n",
        "        if keluar in ('y', 'n'):\n",
        "            break\n",
        "        print(\"Input tidak valid, silakan masukkan 'Y' atau 'N'.\")\n",
        "\n",
        "    if keluar == 'y':\n",
        "        break\n",
        "\n",
        "print(\"==== Terima kasih telah menggunakan program ini ====\\n\")\n"
      ]
    }
  ],
  "metadata": {
    "colab": {
      "provenance": [],
      "authorship_tag": "ABX9TyOrxzJJB5WTrrX5kesntd+Q",
      "include_colab_link": true
    },
    "kernelspec": {
      "display_name": "Python 3",
      "name": "python3"
    },
    "language_info": {
      "name": "python"
    }
  },
  "nbformat": 4,
  "nbformat_minor": 0
}