{
  "nbformat": 4,
  "nbformat_minor": 0,
  "metadata": {
    "colab": {
      "provenance": [],
      "authorship_tag": "ABX9TyNGto/QGQhOjcgMAOyIFAUX",
      "include_colab_link": true
    },
    "kernelspec": {
      "name": "python3",
      "display_name": "Python 3"
    },
    "language_info": {
      "name": "python"
    }
  },
  "cells": [
    {
      "cell_type": "markdown",
      "metadata": {
        "id": "view-in-github",
        "colab_type": "text"
      },
      "source": [
        "<a href=\"https://colab.research.google.com/github/Dimdim666-trk/TI-1C/blob/main/Inheritance.ipynb\" target=\"_parent\"><img src=\"https://colab.research.google.com/assets/colab-badge.svg\" alt=\"Open In Colab\"/></a>"
      ]
    },
    {
      "cell_type": "code",
      "execution_count": null,
      "metadata": {
        "id": "qRtKJdF6aek7",
        "colab": {
          "base_uri": "https://localhost:8080/"
        },
        "outputId": "76532dd8-be76-411b-a0a8-22be81fed359"
      },
      "outputs": [
        {
          "output_type": "stream",
          "name": "stdout",
          "text": [
            "Reading package lists... Done\n",
            "Building dependency tree... Done\n",
            "Reading state information... Done\n",
            "locales is already the newest version (2.35-0ubuntu3.9).\n",
            "0 upgraded, 0 newly installed, 0 to remove and 34 not upgraded.\n",
            "Generating locales (this might take a while)...\n",
            "  id_ID.UTF-8... done\n",
            "Generation complete.\n"
          ]
        }
      ],
      "source": [
        "!apt-get install -y locales\n",
        "!locale-gen id_ID.UTF-8\n",
        "!update-locale"
      ]
    },
    {
      "cell_type": "markdown",
      "source": [
        "# PRAKTIKUM 1"
      ],
      "metadata": {
        "id": "qx08z_DcjvLY"
      }
    },
    {
      "cell_type": "code",
      "source": [
        "class Kendaraan:\n",
        "  def __init__ (self, merk):\n",
        "    self.merk = merk\n",
        "  def mulai_mesin (self):\n",
        "    print (f\"Mesin kendaraan {self.merk} dinyalakan.\")\n",
        "\n",
        "class Mobil (Kendaraan):\n",
        "  def __init__ (self, merk, warna) :\n",
        "    self.merk = merk\n",
        "    self.warna = warna\n",
        "\n",
        "  def info_mobil (self) :\n",
        "    print(f\"Ini adalah mobil {self.merk} berwarna {self.warna}.\")\n",
        "\n",
        "if __name__==\"__main__\" :\n",
        "  mobil_tesla = Mobil(\"Tesla Model S\", \"Merah\")\n",
        "\n",
        "  mobil_tesla.info_mobil ()\n",
        "  mobil_tesla.mulai_mesin ()\n",
        "  print (f\"Merk mobil: {mobil_tesla.merk}\")"
      ],
      "metadata": {
        "colab": {
          "base_uri": "https://localhost:8080/"
        },
        "id": "EVHAQz3VnkTi",
        "outputId": "a205af0f-a0f2-424d-c4b5-1845f40942de"
      },
      "execution_count": null,
      "outputs": [
        {
          "output_type": "stream",
          "name": "stdout",
          "text": [
            "Ini adalah mobil Tesla Model S berwarna Merah.\n",
            "Mesin kendaraan Tesla Model S dinyalakan.\n",
            "Merk mobil: Tesla Model S\n"
          ]
        }
      ]
    },
    {
      "cell_type": "markdown",
      "source": [
        "# PRAKTIKUM 2"
      ],
      "metadata": {
        "id": "__A1JEg5jmFy"
      }
    },
    {
      "cell_type": "code",
      "source": [
        "# kelas_index\n",
        "class Person:\n",
        "    def __init__(self, nama, usia):\n",
        "        print(f\"(Memanggil __init__ Person untuk '{nama}')\")\n",
        "        self.nama = nama\n",
        "        self.usia = usia\n",
        "\n",
        "    def perkenalkan_diri(self):\n",
        "        print(f\"Halo, nama saya {self.nama}, usia saya {self.usia} tahun.\")\n",
        "\n",
        "# Kelas_Anak\n",
        "class Student(Person):\n",
        "    def __init__(self, nama, usia, student_id, jurusan):\n",
        "        print(f\"(Memanggil __init__ Student untuk '{nama}'')\")\n",
        "        # Memanggil__init__dari kelas person untuk inisialissai nama dan usia\n",
        "        super().__init__(nama, usia)\n",
        "        # menambahkan atribut khusus student\n",
        "        self.student_id = student_id\n",
        "        self.jurusan = jurusan\n",
        "        print(f\" (inisialissai atribut Student sebagai untuk '{nama}'')\")\n",
        "\n",
        "    def info_akademik(self):\n",
        "        print(f\"ID Mahasiswa: {self.student_id}\")\n",
        "        print(f\"Jurusan: {self.jurusan}\")\n",
        "    # Override perkenalkan dir1 untuk menambahkan info student\n",
        "    def perkenalkan_diri(self):\n",
        "        super().perkenalkan_diri()  # panggil versi person\n",
        "        print(f\"Saya adalah Mahasiswa dengan ID {self.student_id}, jurusan {self.jurusan}.\")\n",
        "\n",
        "# Kode Utama\n",
        "if __name__ == \"__main__\":\n",
        "    # Membuat objek person\n",
        "    dosen = Person(\"Pak Anton\", 45)\n",
        "    print(\"-\" * 20)\n",
        "    dosen.perkenalkan_diri()\n",
        "    print(\"\\n\" + \"=\" * 30 + \"\\n\")\n",
        "    # Membuat objek student\n",
        "    mahasiswa = Student(\"Dewi\", 20, \"MHS001\", \"Teknik Komputer\")\n",
        "    print(\"-\" * 20)\n",
        "    mahasiswa.perkenalkan_diri()\n",
        "    print(\"-\" * 20)\n",
        "    mahasiswa.info_akademik()\n",
        "\n",
        "    print(f\"\\nUsia mahasiswa {mahasiswa.nama}: {mahasiswa.usia}\")"
      ],
      "metadata": {
        "id": "KHc3b6WexH0q",
        "colab": {
          "base_uri": "https://localhost:8080/"
        },
        "outputId": "6efce8de-eb83-40f6-9698-c52158ef900c"
      },
      "execution_count": null,
      "outputs": [
        {
          "output_type": "stream",
          "name": "stdout",
          "text": [
            "(Memanggil __init__ Person untuk 'Pak Anton')\n",
            "--------------------\n",
            "Halo, nama saya Pak Anton, usia saya 45 tahun.\n",
            "\n",
            "==============================\n",
            "\n",
            "(Memanggil __init__ Student untuk 'Dewi'')\n",
            "(Memanggil __init__ Person untuk 'Dewi')\n",
            " (inisialissai atribut Student sebagai untuk 'Dewi'')\n",
            "--------------------\n",
            "Halo, nama saya Dewi, usia saya 20 tahun.\n",
            "Saya adalah Mahasiswa dengan ID MHS001, jurusan Teknik Komputer.\n",
            "--------------------\n",
            "ID Mahasiswa: MHS001\n",
            "Jurusan: Teknik Komputer\n",
            "\n",
            "Usia mahasiswa Dewi: 20\n"
          ]
        }
      ]
    },
    {
      "cell_type": "markdown",
      "source": [
        "# PRAKTIKUM 3"
      ],
      "metadata": {
        "id": "-6W_DsQejyah"
      }
    },
    {
      "cell_type": "code",
      "source": [
        "class Hewan:\n",
        "  def __init__(self, nama):\n",
        "    self.nama = nama\n",
        "\n",
        "  def bersuara(self):\n",
        "    print(f\"({self.nama} mengeluarkan suara generik.)\")\n",
        "\n",
        "  def tampilkan_info(self):\n",
        "    print(f\"Ini adalah hewan bernama {self.nama}.\")\n",
        "\n",
        "class Kucing (Hewan):\n",
        "  def __init__(self, nama, ras):\n",
        "    super().__init__(nama)\n",
        "    self.ras = ras\n",
        "\n",
        "  def bersuara(self):\n",
        "    print(f\"{self.nama} {Kucing} mengeong: Meow!\")\n",
        "\n",
        "  def tampilkan_info(self):\n",
        "    super().tampilkan_info()\n",
        "    print(f\"Ini adalah kucing ras {self.ras}.\")\n",
        "\n",
        "if __name__==\"__main__\":\n",
        "  hewan_umum = Hewan(\"Makhluk\")\n",
        "  kucing_persia = Kucing(\"Puspus\", \"Persia\")\n",
        "\n",
        "  print(\"Info Hewan Umum:\")\n",
        "  hewan_umum.tampilkan_info()\n",
        "  hewan_umum.bersuara()\n",
        "  print(\"-\" * 20)\n",
        "  print(\"Info Kucing Persia:\")\n",
        "  kucing_persia.tampilkan_info()\n",
        "  kucing_persia.bersuara()"
      ],
      "metadata": {
        "colab": {
          "base_uri": "https://localhost:8080/"
        },
        "id": "GxJ1NJ7639yq",
        "outputId": "ad5becb2-d7b7-45a4-ee19-5e4af421e5f0"
      },
      "execution_count": null,
      "outputs": [
        {
          "output_type": "stream",
          "name": "stdout",
          "text": [
            "Info Hewan Umum:\n",
            "Ini adalah hewan bernama Makhluk.\n",
            "(Makhluk mengeluarkan suara generik.)\n",
            "--------------------\n",
            "Info Kucing Persia:\n",
            "Ini adalah hewan bernama Puspus.\n",
            "Ini adalah kucing ras Persia.\n",
            "Puspus <class '__main__.Kucing'> mengeong: Meow!\n"
          ]
        }
      ]
    },
    {
      "cell_type": "markdown",
      "source": [
        "# PRAKTIKUM 4"
      ],
      "metadata": {
        "id": "iLSMa3zfpF39"
      }
    },
    {
      "cell_type": "code",
      "source": [
        "from ast import NameConstant\n",
        "#Kelas Induk level 1\n",
        "class Organisme:\n",
        "  def __init__ (self, nama) :\n",
        "    self.nama = nama\n",
        "    print (f\"organisme '{self.nama}' diciptakan.\")\n",
        "\n",
        "  def bernafas (self):\n",
        "    print (f\"{self.nama} sedang bernafas.\")\n",
        "\n",
        "#kelas anak level 1\n",
        "class Hewan (Organisme) :\n",
        "  def __init__ (self, nama, jenis_makanan) :\n",
        "    super().__init__(nama)\n",
        "    self.jenis_makanan = jenis_makanan\n",
        "    print (f\"Hewan '{self.nama}' adalah {self.jenis_makanan}.\")\n",
        "\n",
        "  def bergerak (self) :\n",
        "    print (f\"{self.nama} sedang bergerak.\")\n",
        "\n",
        "#kelas anak level 2\n",
        "class Mamalia (Hewan) :\n",
        "  def __init__(self, nama, jenis_makanan, jumlah_kaki) :\n",
        "    super().__init__(nama, jenis_makanan)\n",
        "    self.jumlah_kaki = jumlah_kaki\n",
        "    print (f\"Mamalia '{self.nama}' memiliki {self.jumlah_kaki} kaki.\")\n",
        "\n",
        "  def menyusui(self) :\n",
        "    print (f\"{self.nama} sedang menyusui.\")\n",
        "\n",
        "#Kode Utama\n",
        "if __name__ ==\"__main__\":\n",
        "  kucing = Mamalia (\"Kucing Persia\", \"Karnivora\", 4)\n",
        "  print (\"-\" * 20)\n",
        "\n",
        "  kucing.menyusui ()\n",
        "\n",
        "  kucing.bergerak()\n",
        "  print (f\"Jenis Makanan: {kucing.jenis_makanan}\")\n",
        "\n",
        "  kucing.bernafas ()\n",
        "  print(f\"Nama organisme: {kucing.nama}\")"
      ],
      "metadata": {
        "colab": {
          "base_uri": "https://localhost:8080/"
        },
        "id": "oaA7ZsmvpFbd",
        "outputId": "1a146b77-4a3d-4d48-cf5f-50d2d4d2b140"
      },
      "execution_count": null,
      "outputs": [
        {
          "output_type": "stream",
          "name": "stdout",
          "text": [
            "organisme 'Kucing Persia' diciptakan.\n",
            "Hewan 'Kucing Persia' adalah Karnivora.\n",
            "Mamalia 'Kucing Persia' memiliki 4 kaki.\n",
            "--------------------\n",
            "Kucing Persia sedang menyusui.\n",
            "Kucing Persia sedang bergerak.\n",
            "Jenis Makanan: Karnivora\n",
            "Kucing Persia sedang bernafas.\n",
            "Nama organisme: Kucing Persia\n"
          ]
        }
      ]
    },
    {
      "cell_type": "markdown",
      "source": [
        "# PRAKTIKUM 5"
      ],
      "metadata": {
        "id": "l1hKUxJxzp8I"
      }
    },
    {
      "cell_type": "code",
      "source": [
        "import locale\n",
        "# set locale ke Indonesia untuk format mata uang\n",
        "try:\n",
        "  locale.setlocale(locale.LC_ALL, 'id_ID.UTF-8')\n",
        "except locale.Error:\n",
        "\n",
        "  try:\n",
        "    locale.setlocale(locale.LC_ALL, 'en_US.UTF-8')\n",
        "    print(\"Locale id_ID.UTF-8 tidak tersedia, menggunakan en_US.UTF-8.\")\n",
        "  except locale.Error:\n",
        "\n",
        "    print(\"Locale id_ID.UTF-8 dan en_US.UTF-8 tidak tersedia, menggunakan locale.default.\")\n",
        "\n",
        "    def format_rupiah(angka):\n",
        "      return f\"{angka:,.2f}\"\n",
        "\n",
        "#fungsi helper untuk format mata uang\n",
        "def format_rupiah (angka) :\n",
        "  return locale.currency (angka, grouping=True, symbol='Rp')\n",
        "\n",
        "\n",
        "#kelas induk\n",
        "class Pegawai :\n",
        "  def __init__(self, nama, id_pegawai, gaji_pokok) :\n",
        "    self.nama = nama\n",
        "    self.id_pegawai = id_pegawai\n",
        "    self.gaji_pokok = gaji_pokok\n",
        "\n",
        "  def hitung_gaji (self) :\n",
        "    return self.gaji_pokok\n",
        "\n",
        "  def tampilkan_info (self) :\n",
        "    print (f\"ID: {self.id_pegawai}, Nama: {self.nama}\")\n",
        "    print (f\" Gaji Pokok: {format_rupiah(self.gaji_pokok)}\")\n",
        "\n",
        "#kelas anak 1\n",
        "class Manager (Pegawai) :\n",
        "  def __init__ (self, nama, id_pegawai, gaji_pokok, tunjangan_jabatan) :\n",
        "    super().__init__(nama, id_pegawai, gaji_pokok)\n",
        "    self.tunjangan_jabatan = tunjangan_jabatan\n",
        "\n",
        "  def hitung_gaji (self) :\n",
        "    gaji_total =super().hitung_gaji () + self.tunjangan_jabatan\n",
        "    return gaji_total\n",
        "\n",
        "  def tampilkan_info(self) :\n",
        "    print (\"---Info Manager---\")\n",
        "    super(). tampilkan_info ()\n",
        "    print (f\" Tunjangan Jabatan: {format_rupiah(self.tunjangan_jabatan)}\")\n",
        "    print (f\" Total Gaji: {format_rupiah(self.hitung_gaji())}\")\n",
        "\n",
        "#kelas anak 2\n",
        "class StafTeknis (Pegawai) :\n",
        "  def __init__ (self, nama, id_pegawai, gaji_pokok, keahlian, bonus_keahlian) :\n",
        "    super().__init__(nama, id_pegawai, gaji_pokok)\n",
        "    self.keahlian = keahlian\n",
        "    self.bonus_keahlian = bonus_keahlian\n",
        "\n",
        "  def hitung_gaji (self) :\n",
        "    gaji_total = super().hitung_gaji () + self.bonus_keahlian\n",
        "    return gaji_total\n",
        "\n",
        "  def tampilkan_info (self) :\n",
        "    print (\"--- Info Staf Teknis---\")\n",
        "    super().tampilkan_info ()\n",
        "    print (f\" Keahlian: {self.keahlian}\")\n",
        "    print (f\" Bonus Keahlian: {format_rupiah(self.bonus_keahlian) }\")\n",
        "    print (f\" Total Gaji: {format_rupiah(self.hitung_gaji())}\")\n",
        "\n",
        "#Kode Utama\n",
        "if __name__ == \"__main__\":\n",
        "  manager1 = Manager (\"Budi Santoso\", \"M001\", 10000000, 5000000)\n",
        "  staf1 = StafTeknis (\"Citra Lestari\", \"S001\", 7000000, \"Python Programming\", 1500000)\n",
        "  pegawai_baru = Pegawai (\"Rian\", \"P005\", 5000000)\n",
        "\n",
        "  print (\"Menampilkan Informasi Pegawai:\")\n",
        "  manager1.tampilkan_info ()\n",
        "  print (\"-\" * 30)\n",
        "  staf1.tampilkan_info ()\n",
        "  print (\"-\" * 30)\n",
        "\n",
        "  print (\"---Info Pegawai Baru---\")\n",
        "  pegawai_baru.tampilkan_info ()\n",
        "  print (f\" Total Gaji: {format_rupiah(pegawai_baru.hitung_gaji ())}\")\n",
        "  #memanggil versi pegawai\n",
        "  print(\"-\" * 30)\n",
        "\n",
        "  manager1.tampilkan_info ()\n",
        "  print (\"-\" * 30)"
      ],
      "metadata": {
        "colab": {
          "base_uri": "https://localhost:8080/"
        },
        "id": "QmQWT7dX6BsS",
        "outputId": "5d39ca63-c087-4e50-a725-2d4bc79b0da1"
      },
      "execution_count": null,
      "outputs": [
        {
          "output_type": "stream",
          "name": "stdout",
          "text": [
            "Locale id_ID.UTF-8 tidak tersedia, menggunakan en_US.UTF-8.\n",
            "Menampilkan Informasi Pegawai:\n",
            "---Info Manager---\n",
            "ID: M001, Nama: Budi Santoso\n",
            " Gaji Pokok: $10,000,000.00\n",
            " Tunjangan Jabatan: $5,000,000.00\n",
            " Total Gaji: $15,000,000.00\n",
            "------------------------------\n",
            "--- Info Staf Teknis---\n",
            "ID: S001, Nama: Citra Lestari\n",
            " Gaji Pokok: $7,000,000.00\n",
            " Keahlian: Python Programming\n",
            " Bonus Keahlian: $1,500,000.00\n",
            " Total Gaji: $8,500,000.00\n",
            "------------------------------\n",
            "---Info Pegawai Baru---\n",
            "ID: P005, Nama: Rian\n",
            " Gaji Pokok: $5,000,000.00\n",
            " Total Gaji: $5,000,000.00\n",
            "------------------------------\n",
            "---Info Manager---\n",
            "ID: M001, Nama: Budi Santoso\n",
            " Gaji Pokok: $10,000,000.00\n",
            " Tunjangan Jabatan: $5,000,000.00\n",
            " Total Gaji: $15,000,000.00\n",
            "------------------------------\n"
          ]
        }
      ]
    },
    {
      "cell_type": "markdown",
      "source": [
        "# PRAKTIKUM 6"
      ],
      "metadata": {
        "id": "fTK--THCO1vL"
      }
    },
    {
      "cell_type": "code",
      "source": [
        "class BentukGeometri:\n",
        "    def __init__(self, nama_bentuk):\n",
        "        self.nama = nama_bentuk\n",
        "\n",
        "    def tampilkan_nama(self):\n",
        "        print(f\"Ini adalah bentuk: {self.nama}\")\n",
        "\n",
        "    def hitung_luas(self):\n",
        "        print(f\"Luas {self.nama} tidak dapat dihitung (generik).\")\n",
        "\n",
        "class PersegiPanjang(BentukGeometri):\n",
        "    def __init__(self, panjang, lebar):\n",
        "        super().__init__(\"Persegi Panjang\")\n",
        "        self.panjang = panjang\n",
        "        self.lebar = lebar\n",
        "\n",
        "    def hitung_luas(self):\n",
        "        luas = self.panjang * self.lebar\n",
        "        print(f\"Luas {self.nama}: {luas}\")\n",
        "\n",
        "class Segitiga(BentukGeometri):\n",
        "    def __init__(self, alas, tinggi):\n",
        "        super().__init__(\"Segitiga\")\n",
        "        self.alas = alas\n",
        "        self.tinggi = tinggi\n",
        "\n",
        "    def hitung_luas(self):\n",
        "        luas = 0.5 * self.alas * self.tinggi\n",
        "        print(f\"Luas {self.nama}: {luas}\")\n",
        "\n",
        "def proses_bentuk(bentuk):\n",
        "    print(f\"\\nMemproses objek: {type(bentuk)}\")\n",
        "\n",
        "    if isinstance(bentuk, BentukGeometri):\n",
        "        bentuk.tampilkan_nama()\n",
        "        print(\"Objek ini adalah instance dari BentukGeometri (atau turunannya)\")\n",
        "        if isinstance(bentuk, PersegiPanjang):\n",
        "            print(\"-> Objek ini juga instance dari PersegiPanjang.\")\n",
        "        elif isinstance(bentuk, Segitiga):\n",
        "            print(\"-> Objek ini juga instance dari Segitiga.\")\n",
        "    else:\n",
        "        print(\"Objek ini adalah string.\")\n",
        "\n",
        "# Kode Utama\n",
        "if __name__ == \"__main__\":\n",
        "    pp = PersegiPanjang(4, 3)\n",
        "    seg = Segitiga(5, 2)\n",
        "    bg = BentukGeometri(\"Lingkarang\")  # contoh lain\n",
        "    teks = \"Ini String\"\n",
        "\n",
        "    daftar_objek = [pp, seg, bg, teks]\n",
        "\n",
        "    for obj in daftar_objek:\n",
        "        proses_bentuk(obj)"
      ],
      "metadata": {
        "colab": {
          "base_uri": "https://localhost:8080/"
        },
        "id": "M22o2_jsP1VH",
        "outputId": "c7a1d7fd-cee0-4186-be2f-8b4de642b8ca"
      },
      "execution_count": null,
      "outputs": [
        {
          "output_type": "stream",
          "name": "stdout",
          "text": [
            "\n",
            "Memproses objek: <class '__main__.PersegiPanjang'>\n",
            "Ini adalah bentuk: Persegi Panjang\n",
            "Objek ini adalah instance dari BentukGeometri (atau turunannya)\n",
            "-> Objek ini juga instance dari PersegiPanjang.\n",
            "\n",
            "Memproses objek: <class '__main__.Segitiga'>\n",
            "Ini adalah bentuk: Segitiga\n",
            "Objek ini adalah instance dari BentukGeometri (atau turunannya)\n",
            "-> Objek ini juga instance dari Segitiga.\n",
            "\n",
            "Memproses objek: <class '__main__.BentukGeometri'>\n",
            "Ini adalah bentuk: Lingkarang\n",
            "Objek ini adalah instance dari BentukGeometri (atau turunannya)\n",
            "\n",
            "Memproses objek: <class 'str'>\n",
            "Objek ini adalah string.\n"
          ]
        }
      ]
    },
    {
      "cell_type": "markdown",
      "source": [
        "# PENUGASAN"
      ],
      "metadata": {
        "id": "BcZQJoKPU7IA"
      }
    },
    {
      "cell_type": "code",
      "source": [
        "# Membuat kelas induk mahasiswa\n",
        "class Mahasiswa :\n",
        "    def __init__(self, nama, nim, ipk) :\n",
        "     self.nama = nama\n",
        "     self.nim = nim\n",
        "     self.ipk = ipk\n",
        "\n",
        "    def tampilkan_info (self) :\n",
        "     print (\"Nama:\", self.nama)\n",
        "     print (\"NIM\", self.nim)\n",
        "     print (\"IPK\", self.ipk)\n",
        "\n",
        "    def hitung_predikat(self):\n",
        "     if self.ipk >= 3.5 :\n",
        "      print (\"Predikat: Dengan Pujian\")\n",
        "     elif self.ipk >= 3.0 :\n",
        "      print (\"Predikat: Sangat Memuaskan\")\n",
        "     elif self.ipk >= 2.5 :\n",
        "      print (\"Predikat : Memuaskan\")\n",
        "     else :\n",
        "      print (\"Predikat : Cukup\")\n",
        "\n",
        "#Kelas Anak mahasiswa sarjana yang mewarisi mahasiswa\n",
        "class MahasiswaSarjana (Mahasiswa) :\n",
        "    def __init__(self, nama, nim, ipk, semester, sks_lulus) :\n",
        "     super().__init__(nama, nim, ipk)\n",
        "     self.semester = semester\n",
        "     self.sks_lulus = sks_lulus\n",
        "\n",
        "    def tampilkan_info (self) :\n",
        "     super().tampilkan_info()\n",
        "     print (\"Semester:\", self.semester)\n",
        "     print (\"SKS Lulus:\", self.sks_lulus)\n",
        "\n",
        "#Membuat kelas anak mahasiswa magister yang mewarisi mahasiswa\n",
        "class MahasiswaMagister (Mahasiswa) :\n",
        "    def __init__(self, nama, nim, ipk, judul_tesis, nama_pembimbing) :\n",
        "     super().__init__(nama, nim, ipk)\n",
        "     self.judul_tesis = judul_tesis\n",
        "     self.nama_pembimbing = nama_pembimbing\n",
        "\n",
        "    def tampilkan_info (self) :\n",
        "     super().tampilkan_info()\n",
        "     print (\"Judul Tesis:\", self.judul_tesis)\n",
        "     print (\"Nama Pembimbing\", self.nama_pembimbing)\n",
        "\n",
        "#Kode Utama\n",
        "if __name__ == \"__main__\":\n",
        "    print (\"Data Mahasiswa Sarjana\")\n",
        "    mhs_sarjana = MahasiswaSarjana(\"Siti Aminah\",\"202312345\", 3.7, 7, 130)\n",
        "    mhs_sarjana.tampilkan_info ()\n",
        "    mhs_sarjana.hitung_predikat()\n",
        "\n",
        "    print (\"\\n\")\n",
        "\n",
        "    print (\"Data Mahasiswa Magister\")\n",
        "    mhs_magister = MahasiswaMagister (\"Rudi Hartono\",\"202345678\", 3.2, \"Penerapan AI\", \"Dr. Budi Santoso\")\n",
        "    mhs_magister.tampilkan_info ()\n",
        "    mhs_magister.hitung_predikat()"
      ],
      "metadata": {
        "colab": {
          "base_uri": "https://localhost:8080/"
        },
        "id": "qCGxaugFU6Sp",
        "outputId": "e6a28c71-268d-40b2-9b75-1d0af5a5e093"
      },
      "execution_count": null,
      "outputs": [
        {
          "output_type": "stream",
          "name": "stdout",
          "text": [
            "Data Mahasiswa Sarjana\n",
            "Nama: Siti Aminah\n",
            "NIM 202312345\n",
            "IPK 3.7\n",
            "Semester: 7\n",
            "SKS Lulus: 130\n",
            "Predikat: Dengan Pujian\n",
            "\n",
            "\n",
            "Data Mahasiswa Magister\n",
            "Nama: Rudi Hartono\n",
            "NIM 202345678\n",
            "IPK 3.2\n",
            "Judul Tesis: Penerapan AI\n",
            "Nama Pembimbing Dr. Budi Santoso\n",
            "Predikat: Sangat Memuaskan\n"
          ]
        }
      ]
    }
  ]
}